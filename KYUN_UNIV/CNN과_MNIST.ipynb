{
  "cells": [
    {
      "cell_type": "markdown",
      "metadata": {
        "id": "view-in-github",
        "colab_type": "text"
      },
      "source": [
        "<a href=\"https://colab.research.google.com/github/leeju0/AI_study/blob/main/CNN%EA%B3%BC_MNIST.ipynb\" target=\"_parent\"><img src=\"https://colab.research.google.com/assets/colab-badge.svg\" alt=\"Open In Colab\"/></a>"
      ]
    },
    {
      "cell_type": "markdown",
      "metadata": {
        "id": "gQkcG_c9Hpsz"
      },
      "source": [
        "## 1. 이미지를 인식하는 원리"
      ]
    },
    {
      "cell_type": "code",
      "execution_count": null,
      "metadata": {
        "id": "VfsapogMHps0",
        "outputId": "3a2baf75-1ac4-4339-d220-44aec7374334",
        "colab": {
          "base_uri": "https://localhost:8080/"
        }
      },
      "outputs": [
        {
          "output_type": "stream",
          "name": "stdout",
          "text": [
            "학습셋 이미지 수 : 60000 개\n",
            "테스트셋 이미지 수 : 10000 개\n",
            "60000\n"
          ]
        }
      ],
      "source": [
        "from tensorflow.keras.datasets import mnist\n",
        "from tensorflow.keras.utils import to_categorical\n",
        "import matplotlib.pyplot as plt\n",
        "import sys\n",
        "\n",
        "# MNIST 데이터셋을 불러와 학습셋과 테스트셋으로 저장합니다.\n",
        "(X_train, y_train), (X_test, y_test) = mnist.load_data()\n",
        "\n",
        "# 학습셋과 테스트셋이 각각 몇 개의 이미지로 되어 있는지 확인합니다.\n",
        "print(\"학습셋 이미지 수 : %d 개\" % (X_train.shape[0]))\n",
        "print(\"테스트셋 이미지 수 : %d 개\" % (X_test.shape[0]))\n",
        "\n",
        "print(len(X_train))"
      ]
    },
    {
      "cell_type": "code",
      "source": [
        "print(len(X_train))\n",
        "print(len(X_test))"
      ],
      "metadata": {
        "colab": {
          "base_uri": "https://localhost:8080/"
        },
        "id": "YS_C2mRTAckG",
        "outputId": "ee822471-9e6d-4a3b-f7dd-885a5e2ec20b"
      },
      "execution_count": null,
      "outputs": [
        {
          "output_type": "stream",
          "name": "stdout",
          "text": [
            "60000\n",
            "10000\n"
          ]
        }
      ]
    },
    {
      "cell_type": "code",
      "source": [
        "y_test"
      ],
      "metadata": {
        "colab": {
          "base_uri": "https://localhost:8080/"
        },
        "id": "N32by77P5b3f",
        "outputId": "7e039e91-f03a-45b2-cf8b-c41a3fa900a0"
      },
      "execution_count": null,
      "outputs": [
        {
          "output_type": "execute_result",
          "data": {
            "text/plain": [
              "array([7, 2, 1, ..., 4, 5, 6], dtype=uint8)"
            ]
          },
          "metadata": {},
          "execution_count": 37
        }
      ]
    },
    {
      "cell_type": "code",
      "source": [
        "y_train"
      ],
      "metadata": {
        "colab": {
          "base_uri": "https://localhost:8080/"
        },
        "id": "mKjZqmvo598j",
        "outputId": "f1980611-0f4a-4bef-a4ab-a247a03ff6b7"
      },
      "execution_count": null,
      "outputs": [
        {
          "output_type": "execute_result",
          "data": {
            "text/plain": [
              "array([5, 0, 4, ..., 5, 6, 8], dtype=uint8)"
            ]
          },
          "metadata": {},
          "execution_count": 38
        }
      ]
    },
    {
      "cell_type": "code",
      "source": [
        "print(X_train.shape) # 데이터셋 개수 , row size, col size\n",
        "print(y_train.shape) # 데이터셋 개수 60000개 -> 정답은 그림이 아니라 숫자로 있다.\n",
        "print(X_test.shape)\n",
        "print(y_test.shape)"
      ],
      "metadata": {
        "colab": {
          "base_uri": "https://localhost:8080/"
        },
        "id": "6VaAkMduAjzu",
        "outputId": "3c31444d-9b9b-4a9c-b01a-96211fa0cc61"
      },
      "execution_count": null,
      "outputs": [
        {
          "output_type": "stream",
          "name": "stdout",
          "text": [
            "(60000, 28, 28)\n",
            "(60000,)\n",
            "(10000, 28, 28)\n",
            "(10000,)\n"
          ]
        }
      ]
    },
    {
      "cell_type": "code",
      "execution_count": null,
      "metadata": {
        "id": "bfMgdLaxHps3",
        "outputId": "0b8c4a43-6592-4b1f-ba9a-66ff13bbb2a1",
        "colab": {
          "base_uri": "https://localhost:8080/"
        }
      },
      "outputs": [
        {
          "output_type": "stream",
          "name": "stdout",
          "text": [
            "class : 5 \n",
            "[0. 0. 0. 0. 0. 1. 0. 0. 0. 0.]\n"
          ]
        }
      ],
      "source": [
        "# One-Hot Encording\n",
        "X_train = X_train.reshape(X_train.shape[0], 784)\n",
        "#X_train = X_train.astype('float64')\n",
        "X_train = X_train / 255 # 최대값이 1.0이 될 것.\n",
        "\n",
        "X_test = X_test.reshape(X_test.shape[0], 784).astype('float64') / 255\n",
        "print(\"class : %d \" % (y_train[0]))\n",
        "\n",
        "# 바이너리화 과정을 실습해 봅니다.\n",
        "# multiclassification이므로, y 값을 원 핫 인코딩을 해준다.\n",
        "y_train = to_categorical(y_train, 10)\n",
        "y_test = to_categorical(y_test, 10)\n",
        "\n",
        "print(y_train[0])"
      ]
    },
    {
      "cell_type": "markdown",
      "source": [],
      "metadata": {
        "id": "MHYLuICta6KC"
      }
    },
    {
      "cell_type": "markdown",
      "source": [],
      "metadata": {
        "id": "BPPi5qKQa6Z8"
      }
    },
    {
      "cell_type": "code",
      "source": [
        "y_train.shape # 데이터셋 개수 60000개 -> 정답은 그림이 아니라 숫자로 있다."
      ],
      "metadata": {
        "colab": {
          "base_uri": "https://localhost:8080/"
        },
        "id": "m6fWYcGoBdmP",
        "outputId": "87c43f59-7c11-42e7-9e11-2b762082f445"
      },
      "execution_count": null,
      "outputs": [
        {
          "output_type": "execute_result",
          "data": {
            "text/plain": [
              "(60000,)"
            ]
          },
          "metadata": {},
          "execution_count": 4
        }
      ]
    },
    {
      "cell_type": "markdown",
      "source": [
        "# 0~9 까지의 손글씨를 분류하는 모델을 만들어보자!"
      ],
      "metadata": {
        "id": "02Ni72CiAKfA"
      }
    },
    {
      "cell_type": "code",
      "source": [
        "# 첫 번째 이미지를 확인해 봅시다.\n",
        "plt.imshow(X_train[1], cmap='Greys')\n",
        "plt.show()\n",
        "print(X_train.shape)"
      ],
      "metadata": {
        "colab": {
          "base_uri": "https://localhost:8080/",
          "height": 448
        },
        "id": "_07lDBO23oEN",
        "outputId": "c7b3fd8e-140c-4505-aa59-28120f98c20f"
      },
      "execution_count": null,
      "outputs": [
        {
          "output_type": "display_data",
          "data": {
            "text/plain": [
              "<Figure size 640x480 with 1 Axes>"
            ],
            "image/png": "[encoded data removed]"
          },
          "metadata": {}
        },
        {
          "output_type": "stream",
          "name": "stdout",
          "text": [
            "(60000, 28, 28)\n"
          ]
        }
      ]
    },
    {
      "cell_type": "code",
      "execution_count": null,
      "metadata": {
        "id": "U2p8H9OSHps2",
        "outputId": "dbfccd00-e00f-45d2-c496-f8d6ddd5657f",
        "colab": {
          "base_uri": "https://localhost:8080/"
        }
      },
      "outputs": [
        {
          "output_type": "stream",
          "name": "stdout",
          "text": [
            "0  0  0  0  0  0  0  0  0  0  0  0  0  0  0  0  0  0  0  0  0  0  0  0  0  0  0  0  \n",
            "0  0  0  0  0  0  0  0  0  0  0  0  0  0  0  0  0  0  0  0  0  0  0  0  0  0  0  0  \n",
            "0  0  0  0  0  0  0  0  0  0  0  0  0  0  0  0  0  0  0  0  0  0  0  0  0  0  0  0  \n",
            "0  0  0  0  0  0  0  0  0  0  0  0  0  0  0  0  0  0  0  0  0  0  0  0  0  0  0  0  \n",
            "0  0  0  0  0  0  0  0  0  0  0  0  0  0  0  51 15925315950 0  0  0  0  0  0  0  0  \n",
            "0  0  0  0  0  0  0  0  0  0  0  0  0  0  48 2382522522522370  0  0  0  0  0  0  0  \n",
            "0  0  0  0  0  0  0  0  0  0  0  0  0  54 22725325223923325257 6  0  0  0  0  0  0  \n",
            "0  0  0  0  0  0  0  0  0  0  0  10 60 22425225325220284 2522531220  0  0  0  0  0  \n",
            "0  0  0  0  0  0  0  0  0  0  0  16325225225225325225296 1892531670  0  0  0  0  0  \n",
            "0  0  0  0  0  0  0  0  0  0  51 23825325319011425322847 79 2551680  0  0  0  0  0  \n",
            "0  0  0  0  0  0  0  0  0  48 23825225217912 75 12121 0  0  25324350 0  0  0  0  0  \n",
            "0  0  0  0  0  0  0  0  38 16525323320884 0  0  0  0  0  0  2532521650  0  0  0  0  \n",
            "0  0  0  0  0  0  0  7  17825224071 19 28 0  0  0  0  0  0  2532521950  0  0  0  0  \n",
            "0  0  0  0  0  0  0  57 25225263 0  0  0  0  0  0  0  0  0  2532521950  0  0  0  0  \n",
            "0  0  0  0  0  0  0  1982531900  0  0  0  0  0  0  0  0  0  2552531960  0  0  0  0  \n",
            "0  0  0  0  0  0  76 2462521120  0  0  0  0  0  0  0  0  0  2532521480  0  0  0  0  \n",
            "0  0  0  0  0  0  85 25223025 0  0  0  0  0  0  0  0  7  13525318612 0  0  0  0  0  \n",
            "0  0  0  0  0  0  85 2522230  0  0  0  0  0  0  0  7  13125222571 0  0  0  0  0  0  \n",
            "0  0  0  0  0  0  85 2521450  0  0  0  0  0  0  48 1652521730  0  0  0  0  0  0  0  \n",
            "0  0  0  0  0  0  86 2532250  0  0  0  0  0  1142382531620  0  0  0  0  0  0  0  0  \n",
            "0  0  0  0  0  0  85 25224914648 29 85 17822525322316756 0  0  0  0  0  0  0  0  0  \n",
            "0  0  0  0  0  0  85 2522522522292152522522521961300  0  0  0  0  0  0  0  0  0  0  \n",
            "0  0  0  0  0  0  28 1992522522532522522331450  0  0  0  0  0  0  0  0  0  0  0  0  \n",
            "0  0  0  0  0  0  0  25 12825225325214137 0  0  0  0  0  0  0  0  0  0  0  0  0  0  \n",
            "0  0  0  0  0  0  0  0  0  0  0  0  0  0  0  0  0  0  0  0  0  0  0  0  0  0  0  0  \n",
            "0  0  0  0  0  0  0  0  0  0  0  0  0  0  0  0  0  0  0  0  0  0  0  0  0  0  0  0  \n",
            "0  0  0  0  0  0  0  0  0  0  0  0  0  0  0  0  0  0  0  0  0  0  0  0  0  0  0  0  \n",
            "0  0  0  0  0  0  0  0  0  0  0  0  0  0  0  0  0  0  0  0  0  0  0  0  0  0  0  0  \n"
          ]
        }
      ],
      "source": [
        "# 이미지가 인식되는 원리를 알아봅시다.  => 숫자가 높을수록 어두워짐\n",
        "for x in X_train[1]:\n",
        "    for i in x:\n",
        "        sys.stdout.write(\"%-3s\" % i)\n",
        "    sys.stdout.write('\\n') #\\ left at back space"
      ]
    },
    {
      "cell_type": "code",
      "source": [
        "X_train.reshape()"
      ],
      "metadata": {
        "colab": {
          "base_uri": "https://localhost:8080/",
          "height": 145
        },
        "id": "Njkvo-V8M3bb",
        "outputId": "984344c9-d939-4142-98cb-d6573da057c2"
      },
      "execution_count": null,
      "outputs": [
        {
          "output_type": "error",
          "ename": "NameError",
          "evalue": "name 'X_train' is not defined",
          "traceback": [
            "\u001b[0;31m---------------------------------------------------------------------------\u001b[0m",
            "\u001b[0;31mNameError\u001b[0m                                 Traceback (most recent call last)",
            "\u001b[0;32m<ipython-input-1-c5b43c0a594d>\u001b[0m in \u001b[0;36m<cell line: 1>\u001b[0;34m()\u001b[0m\n\u001b[0;32m----> 1\u001b[0;31m \u001b[0mX_train\u001b[0m\u001b[0;34m.\u001b[0m\u001b[0mreshape\u001b[0m\u001b[0;34m(\u001b[0m\u001b[0;34m)\u001b[0m\u001b[0;34m\u001b[0m\u001b[0;34m\u001b[0m\u001b[0m\n\u001b[0m",
            "\u001b[0;31mNameError\u001b[0m: name 'X_train' is not defined"
          ]
        }
      ]
    },
    {
      "cell_type": "markdown",
      "source": [
        "class 5는 5만 1이다."
      ],
      "metadata": {
        "id": "5-GAr0xVCZGO"
      }
    },
    {
      "cell_type": "code",
      "source": [
        "y_train.shape # 데이터 개수, 리스트 길이"
      ],
      "metadata": {
        "colab": {
          "base_uri": "https://localhost:8080/"
        },
        "id": "kIHX9IZsCjE2",
        "outputId": "13db8be0-25f6-4eda-8a42-e9efd067091f"
      },
      "execution_count": null,
      "outputs": [
        {
          "output_type": "execute_result",
          "data": {
            "text/plain": [
              "(60000, 10)"
            ]
          },
          "metadata": {},
          "execution_count": 22
        }
      ]
    },
    {
      "cell_type": "markdown",
      "metadata": {
        "id": "czn3_m_KHps4"
      },
      "source": [
        "## 2. 딥러닝 기본 프레임 만들기"
      ]
    },
    {
      "cell_type": "code",
      "execution_count": null,
      "metadata": {
        "id": "7L9ig9toHps5"
      },
      "outputs": [],
      "source": [
        "from tensorflow.keras.models import Sequential\n",
        "from tensorflow.keras.layers import Dense\n",
        "from tensorflow.keras.callbacks import ModelCheckpoint,EarlyStopping\n",
        "import numpy as np\n",
        "import os\n",
        "\n",
        "from tensorflow.keras.datasets import mnist\n",
        "from tensorflow.keras.utils import to_categorical\n",
        "import matplotlib.pyplot as plt\n",
        "\n",
        "\n",
        "# MNIST 데이터를 불러옵니다.\n",
        "(X_train, y_train), (X_test, y_test) = mnist.load_data()\n",
        "\n",
        "\n"
      ]
    },
    {
      "cell_type": "code",
      "source": [
        "print(X_train.shape) # 데이터셋 개수 , row size, col size\n",
        "print(y_train.shape) # 데이터셋 개수 60000개 -> 정답은 그림이 아니라 숫자로 있다.\n",
        "print(X_test.shape)\n",
        "print(y_test.shape)"
      ],
      "metadata": {
        "colab": {
          "base_uri": "https://localhost:8080/"
        },
        "id": "28I93wPCbQh1",
        "outputId": "0d7632c0-e1ec-46db-c252-9f3471a23c1c"
      },
      "execution_count": null,
      "outputs": [
        {
          "output_type": "stream",
          "name": "stdout",
          "text": [
            "(60000, 28, 28)\n",
            "(60000,)\n",
            "(10000, 28, 28)\n",
            "(10000,)\n"
          ]
        }
      ]
    },
    {
      "cell_type": "code",
      "source": [
        "# 차원 변환 후, 테스트셋과 학습셋으로 나누어 줍니다. One-Hot Encording\n",
        "X_train = X_train.reshape(X_train.shape[0], 784).astype('float32') / 255\n",
        "X_test = X_test.reshape(X_test.shape[0], 784).astype('float32') / 255\n",
        "y_train = to_categorical(y_train, 10)\n",
        "y_test = to_categorical(y_test, 10)\n"
      ],
      "metadata": {
        "id": "ifF-ks8rbYnY"
      },
      "execution_count": null,
      "outputs": []
    },
    {
      "cell_type": "code",
      "source": [
        "print(X_train.shape) # 데이터셋 개수 , row size, col size\n",
        "print(y_train.shape) # 데이터셋 개수 60000개 -> 정답은 그림이 아니라 숫자로 있다.\n",
        "print(X_test.shape)\n",
        "print(y_test.shape)"
      ],
      "metadata": {
        "colab": {
          "base_uri": "https://localhost:8080/"
        },
        "id": "w35FmRLXbgRZ",
        "outputId": "35b80f1d-a1f7-4bb1-b292-c77ebf83522f"
      },
      "execution_count": null,
      "outputs": [
        {
          "output_type": "stream",
          "name": "stdout",
          "text": [
            "(60000, 784)\n",
            "(60000, 10)\n",
            "(10000, 784)\n",
            "(10000, 10)\n"
          ]
        }
      ]
    },
    {
      "cell_type": "code",
      "source": [
        "\n",
        "# 모델 구조를 설정합니다. 은닉층 - 1개/input 784개 /은닉층 노드 수 784 개 / output 10개   , 출력층 활성화함수 multiclassification이므로 softmax\n",
        "# X_train의 row size x col size = 784\n",
        "# 원핫인코딩 y_train의 배열 크기 10\n",
        "# color image이면 input_dim에 x3을 해주어야 한다,\n",
        "\n",
        "model = Sequential()\n",
        "model.add(Dense(512, input_dim=784, activation='relu'))\n",
        "model.add(Dense(10, activation='softmax'))\n",
        "model.summary()"
      ],
      "metadata": {
        "colab": {
          "base_uri": "https://localhost:8080/"
        },
        "id": "wuUGNkTXCzEu",
        "outputId": "02077e74-5cd8-4c3b-864e-d57cc8e9f61f"
      },
      "execution_count": null,
      "outputs": [
        {
          "output_type": "stream",
          "name": "stdout",
          "text": [
            "Model: \"sequential\"\n",
            "_________________________________________________________________\n",
            " Layer (type)                Output Shape              Param #   \n",
            "=================================================================\n",
            " dense (Dense)               (None, 512)               401920    \n",
            "                                                                 \n",
            " dense_1 (Dense)             (None, 10)                5130      \n",
            "                                                                 \n",
            "=================================================================\n",
            "Total params: 407050 (1.55 MB)\n",
            "Trainable params: 407050 (1.55 MB)\n",
            "Non-trainable params: 0 (0.00 Byte)\n",
            "_________________________________________________________________\n"
          ]
        }
      ]
    },
    {
      "cell_type": "code",
      "execution_count": null,
      "metadata": {
        "id": "dem7CMEoHps5"
      },
      "outputs": [],
      "source": [
        "# 모델 실행 환경을 설정합니다.\n",
        "model.compile(loss='categorical_crossentropy',\n",
        "              optimizer='adam', metrics=['accuracy']) # softmax와 set인 loss function : categorical_cross entropy\n",
        "\n"
      ]
    },
    {
      "cell_type": "code",
      "source": [
        "# 모델 최적화를 위한 설정 구간입니다.\n",
        "modelpath=\"./MNIST_MLP.hdf5\" #모델 저장지점\n",
        "checkpointer = ModelCheckpoint(filepath=modelpath,\n",
        "                               monitor='val_loss',\n",
        "                               verbose=1, save_best_only=True)\n",
        "\"\"\"\n",
        "filepath : 저장위치\n",
        "monitor : validation_loss 기준으로 저장\n",
        "verbose : 몇번마다 확인할건지\n",
        "svae_best_only = True : validation loss가 이전보다 낮아지는 경우만 저장함 / false로 하면 epoch한 번 마다 저장한다.\n",
        "\n",
        "\"\"\"\n",
        "\n",
        "\n",
        "\n",
        "early_stopping_callback = EarlyStopping(monitor='val_loss',\n",
        "                                        patience=10)\n",
        "\n",
        "# 모델을 실행합니다.\n",
        "history = model.fit(X_train, y_train, validation_split=0.25,\n",
        "                    epochs=30, batch_size=200,\n",
        "                    verbose=0, callbacks=[early_stopping_callback,\n",
        "                                          checkpointer])\n",
        "\n",
        "\"\"\"\n",
        "batch_size : 몇 번씩 끊어서 학습 할건지\n",
        "callbacks : 배열형태로 정리되는 변수ㅡ enrly_stopping_callback : 위에 설정한 early_stopping_callback 에 따라 10번 학습동안 변함없으면 멈추라는 뜻\n",
        "\n",
        "\"\"\"\n",
        "\n",
        "# 테스트 정확도를 출력합니다.\n",
        "print(\"\\n Test Accuracy: %.4f\" % (model.evaluate(X_test, y_test)[1]))"
      ],
      "metadata": {
        "colab": {
          "base_uri": "https://localhost:8080/"
        },
        "id": "Y03RrzFQD_TG",
        "outputId": "2e1a9fb7-0a15-4853-cd50-b37fd4f008e9"
      },
      "execution_count": null,
      "outputs": [
        {
          "output_type": "stream",
          "name": "stdout",
          "text": [
            "\n",
            "Epoch 1: val_loss improved from inf to 0.19480, saving model to ./MNIST_MLP.hdf5\n"
          ]
        },
        {
          "output_type": "stream",
          "name": "stderr",
          "text": [
            "/usr/local/lib/python3.10/dist-packages/keras/src/engine/training.py:3103: UserWarning: You are saving your model as an HDF5 file via `model.save()`. This file format is considered legacy. We recommend using instead the native Keras format, e.g. `model.save('my_model.keras')`.\n",
            "  saving_api.save_model(\n"
          ]
        },
        {
          "output_type": "stream",
          "name": "stdout",
          "text": [
            "\n",
            "Epoch 2: val_loss improved from 0.19480 to 0.13458, saving model to ./MNIST_MLP.hdf5\n",
            "\n",
            "Epoch 3: val_loss improved from 0.13458 to 0.11794, saving model to ./MNIST_MLP.hdf5\n",
            "\n",
            "Epoch 4: val_loss improved from 0.11794 to 0.10366, saving model to ./MNIST_MLP.hdf5\n",
            "\n",
            "Epoch 5: val_loss improved from 0.10366 to 0.09931, saving model to ./MNIST_MLP.hdf5\n",
            "\n",
            "Epoch 6: val_loss improved from 0.09931 to 0.08766, saving model to ./MNIST_MLP.hdf5\n",
            "\n",
            "Epoch 7: val_loss did not improve from 0.08766\n",
            "\n",
            "Epoch 8: val_loss improved from 0.08766 to 0.08688, saving model to ./MNIST_MLP.hdf5\n",
            "\n",
            "Epoch 9: val_loss improved from 0.08688 to 0.08041, saving model to ./MNIST_MLP.hdf5\n",
            "\n",
            "Epoch 10: val_loss did not improve from 0.08041\n",
            "\n",
            "Epoch 11: val_loss did not improve from 0.08041\n",
            "\n",
            "Epoch 12: val_loss did not improve from 0.08041\n",
            "\n",
            "Epoch 13: val_loss did not improve from 0.08041\n",
            "\n",
            "Epoch 14: val_loss did not improve from 0.08041\n",
            "\n",
            "Epoch 15: val_loss did not improve from 0.08041\n",
            "\n",
            "Epoch 16: val_loss did not improve from 0.08041\n",
            "\n",
            "Epoch 17: val_loss did not improve from 0.08041\n",
            "\n",
            "Epoch 18: val_loss did not improve from 0.08041\n",
            "\n",
            "Epoch 19: val_loss did not improve from 0.08041\n",
            "313/313 [==============================] - 1s 3ms/step - loss: 0.0698 - accuracy: 0.9805\n",
            "\n",
            " Test Accuracy: 0.9805\n"
          ]
        }
      ]
    },
    {
      "cell_type": "markdown",
      "source": [
        "val_loss가 10번동안 개선이 안되면 종료\n"
      ],
      "metadata": {
        "id": "p2iNQmHKFLjt"
      }
    },
    {
      "cell_type": "code",
      "execution_count": null,
      "metadata": {
        "id": "QFTv0dfNHps6",
        "outputId": "9a56efa9-5007-41bd-f97c-584c89d2d1f3",
        "colab": {
          "base_uri": "https://localhost:8080/",
          "height": 449
        }
      },
      "outputs": [
        {
          "output_type": "display_data",
          "data": {
            "text/plain": [
              "<Figure size 640x480 with 1 Axes>"
            ],
            "image/png": "[encoded data removed]"
          },
          "metadata": {}
        }
      ],
      "source": [
        "# 검증셋과 학습셋의 오차를 저장합니다.\n",
        "y_vloss = history.history['val_loss']\n",
        "y_loss = history.history['loss']\n",
        "\n",
        "# 그래프로 표현해 봅니다.\n",
        "x_len = np.arange(len(y_loss))\n",
        "plt.plot(x_len, y_vloss, marker='.', c=\"red\", label='Testset_loss')\n",
        "plt.plot(x_len, y_loss, marker='.', c=\"blue\", label='Trainset_loss')\n",
        "\n",
        "# 그래프에 그리드를 주고 레이블을 표시해 보겠습니다.\n",
        "plt.legend(loc='upper right')\n",
        "plt.grid()\n",
        "plt.xlabel('epoch')\n",
        "plt.ylabel('loss')\n",
        "plt.show()"
      ]
    },
    {
      "cell_type": "markdown",
      "source": [
        "####  이미지 처리에서 일반적인 신경망 사용으로, trainset과 testset에서 각 오차를 나타낸 그래프이다. 우리의 목표는 훈련과 테스트셋에서 오차를 다 0에 수렴하게 만들고 싶다. 그럼 적합하지 않다."
      ],
      "metadata": {
        "id": "Lc3aGAkRFpnN"
      }
    },
    {
      "cell_type": "markdown",
      "metadata": {
        "id": "SqupvrChHps6"
      },
      "source": [
        "## 5. 컨볼루션 신경망 실행하기"
      ]
    },
    {
      "cell_type": "markdown",
      "source": [
        "###  이미지 데이터에 cnn사용하면 train,test에서 오차가 0에 수렴하게 만들 수 있다."
      ],
      "metadata": {
        "id": "7nAkRiHZGDtF"
      }
    },
    {
      "cell_type": "code",
      "source": [
        "from tensorflow.keras.models import Sequential\n",
        "from tensorflow.keras.layers import Dense, Conv2D, MaxPooling2D, Dropout, Flatten\n",
        "from tensorflow.keras.callbacks import ModelCheckpoint,EarlyStopping\n",
        "import numpy as np\n",
        "from tensorflow.keras.datasets import mnist\n",
        "from tensorflow.keras.utils import to_categorical\n",
        "import matplotlib.pyplot as plt"
      ],
      "metadata": {
        "id": "bwVFR95BsKEr"
      },
      "execution_count": null,
      "outputs": []
    },
    {
      "cell_type": "code",
      "source": [
        "\n",
        "# 데이터를 불러옵니다.\n",
        "(X_train, y_train), (X_test, y_test) = mnist.load_data()"
      ],
      "metadata": {
        "id": "bf_B_b_AsMnl"
      },
      "execution_count": null,
      "outputs": []
    },
    {
      "cell_type": "code",
      "source": [
        "y_test"
      ],
      "metadata": {
        "colab": {
          "base_uri": "https://localhost:8080/"
        },
        "id": "6nfavkpIsgB0",
        "outputId": "04e5f1ec-6ad3-4417-c653-33647ee39e36"
      },
      "execution_count": null,
      "outputs": [
        {
          "output_type": "execute_result",
          "data": {
            "text/plain": [
              "array([[0., 0., 0., ..., 1., 0., 0.],\n",
              "       [0., 0., 1., ..., 0., 0., 0.],\n",
              "       [0., 1., 0., ..., 0., 0., 0.],\n",
              "       ...,\n",
              "       [0., 0., 0., ..., 0., 0., 0.],\n",
              "       [0., 0., 0., ..., 0., 0., 0.],\n",
              "       [0., 0., 0., ..., 0., 0., 0.]], dtype=float32)"
            ]
          },
          "metadata": {},
          "execution_count": 29
        }
      ]
    },
    {
      "cell_type": "code",
      "source": [
        "print(X_train.shape)\n",
        "print(X_test.shape)\n",
        "print(y_train.shape)\n",
        "print(y_test.shape)\n"
      ],
      "metadata": {
        "colab": {
          "base_uri": "https://localhost:8080/"
        },
        "id": "iDafEJHvsPXS",
        "outputId": "c5dea4ed-e49e-4014-9bd2-9d24c372eeb8"
      },
      "execution_count": null,
      "outputs": [
        {
          "output_type": "stream",
          "name": "stdout",
          "text": [
            "(60000, 28, 28)\n",
            "(10000, 28, 28)\n",
            "(60000,)\n",
            "(10000,)\n"
          ]
        }
      ]
    },
    {
      "cell_type": "code",
      "source": [
        "\n",
        "X_train = X_train.reshape(X_train.shape[0], 28, 28, 1).astype('float32') / 255\n",
        "\n",
        "X_test = X_test.reshape(X_test.shape[0], 28, 28, 1).astype('float32') / 255\n",
        "y_train = to_categorical(y_train)\n",
        "y_test = to_categorical(y_test)\n"
      ],
      "metadata": {
        "id": "GeSWKTcxsVk1"
      },
      "execution_count": null,
      "outputs": []
    },
    {
      "cell_type": "code",
      "source": [
        "print(X_train.shape)\n",
        "print(X_test.shape)\n",
        "print(y_train.shape)\n",
        "print(y_test.shape)\n"
      ],
      "metadata": {
        "colab": {
          "base_uri": "https://localhost:8080/"
        },
        "id": "tHZOrHJVsWuN",
        "outputId": "afbb519f-0ad6-4ffb-c735-bbf96352bfab"
      },
      "execution_count": null,
      "outputs": [
        {
          "output_type": "stream",
          "name": "stdout",
          "text": [
            "(60000, 28, 28, 1)\n",
            "(10000, 28, 28, 1)\n",
            "(60000, 10)\n",
            "(10000, 10)\n"
          ]
        }
      ]
    },
    {
      "cell_type": "code",
      "execution_count": null,
      "metadata": {
        "id": "aJa-27qAHps7"
      },
      "outputs": [],
      "source": [
        "\n",
        "\n",
        "# 컨볼루션 신경망의 설정\n",
        "model = Sequential()\n",
        "\n",
        "# conv & pooling\n",
        "\"\"\"\n",
        "  kernel size : 3x3 - 특징의 개수는 커널의 개수와 같다. 32개 커널 사용 32개의 특징을 뽑겠다는 뜻\n",
        "  input : train의 사이즈 28x28 그리고 channel은 흑백이므로 1\n",
        "  stride =3 과 같이 추가 설정가능\n",
        " \"\"\"\n",
        "\n",
        "\n",
        "model.add(Conv2D(32, kernel_size=(3, 3), input_shape=(28, 28, 1),\n",
        "                 activation='relu'))\n",
        "model.add(Conv2D(64, (3, 3), activation='relu'))\n",
        "\n",
        "\n",
        "model.add(MaxPooling2D(pool_size=(2,2)))\n",
        "# pooling size - 특징을 유지하면서 size 축소 , 연산량 감소의 의미, 2x2로 pooling 하겠다.\n",
        "\n",
        "# dropout : overfitting 방지 / flatten : 평탄화\n",
        "model.add(Dropout(0.25)) # 1/4 비율로 dropout 가중치가 적은 뉴런 끊어서 오버피팅 방지하겠다.\n",
        "model.add(Flatten()) #피쳐 맵을 1자로\n",
        "\n",
        "# 평탄화 한 데이터를 dense하게 신경망에 넣음\n",
        "model.add(Dense(128,  activation='relu'))\n",
        "\n",
        "# 다시 오버피팅 방지\n",
        "model.add(Dropout(0.5))\n",
        "\n",
        "# 출력층, 다층 분류이므로 softmax\n",
        "model.add(Dense(10, activation='softmax'))\n",
        "\n",
        "\n"
      ]
    },
    {
      "cell_type": "code",
      "source": [
        "model.summary()"
      ],
      "metadata": {
        "colab": {
          "base_uri": "https://localhost:8080/"
        },
        "id": "HTUnyKRiIthF",
        "outputId": "9be909aa-675e-47dd-d90b-76cf9ffd62f7"
      },
      "execution_count": null,
      "outputs": [
        {
          "output_type": "stream",
          "name": "stdout",
          "text": [
            "Model: \"sequential_6\"\n",
            "_________________________________________________________________\n",
            " Layer (type)                Output Shape              Param #   \n",
            "=================================================================\n",
            " conv2d_6 (Conv2D)           (None, 26, 26, 32)        320       \n",
            "                                                                 \n",
            " conv2d_7 (Conv2D)           (None, 24, 24, 64)        18496     \n",
            "                                                                 \n",
            " max_pooling2d_3 (MaxPoolin  (None, 12, 12, 64)        0         \n",
            " g2D)                                                            \n",
            "                                                                 \n",
            " dropout_6 (Dropout)         (None, 12, 12, 64)        0         \n",
            "                                                                 \n",
            " flatten_3 (Flatten)         (None, 9216)              0         \n",
            "                                                                 \n",
            " dense_12 (Dense)            (None, 128)               1179776   \n",
            "                                                                 \n",
            " dropout_7 (Dropout)         (None, 128)               0         \n",
            "                                                                 \n",
            " dense_13 (Dense)            (None, 10)                1290      \n",
            "                                                                 \n",
            "=================================================================\n",
            "Total params: 1199882 (4.58 MB)\n",
            "Trainable params: 1199882 (4.58 MB)\n",
            "Non-trainable params: 0 (0.00 Byte)\n",
            "_________________________________________________________________\n"
          ]
        }
      ]
    },
    {
      "cell_type": "code",
      "source": [
        "\n",
        "# 모델 실행 환경을 설정합니다.\n",
        "model.compile(loss='categorical_crossentropy',\n",
        "              optimizer='adam', metrics=['accuracy'])\n",
        "\n",
        "# 모델 최적화를 위한 설정 구간입니다.\n",
        "modelpath=\"./MNIST_CNN.hdf5\"\n",
        "checkpointer = ModelCheckpoint(filepath=modelpath,\n",
        "                               monitor='val_loss',\n",
        "                               verbose=1, save_best_only=True)\n",
        "early_stopping_callback = EarlyStopping(monitor='val_loss',\n",
        "                                        patience=10)\n",
        "\n",
        "# 모델을 실행합니다.\n",
        "history = model.fit(X_train, y_train, validation_split=0.25,\n",
        "                    epochs=30, batch_size=200,\n",
        "                    verbose=0, callbacks=[early_stopping_callback,\n",
        "                                          checkpointer])\n",
        "\n",
        "# 테스트 정확도를 출력합니다.\n",
        "print(\"\\n Test Accuracy: %.4f\" % (model.evaluate(X_test, y_test)[1]))"
      ],
      "metadata": {
        "colab": {
          "base_uri": "https://localhost:8080/"
        },
        "id": "pmfU359JGc6l",
        "outputId": "5b8e68c2-7a22-4f13-8991-e8525412584a"
      },
      "execution_count": null,
      "outputs": [
        {
          "output_type": "stream",
          "name": "stdout",
          "text": [
            "\n",
            "Epoch 1: val_loss improved from inf to 0.08123, saving model to ./MNIST_CNN.hdf5\n"
          ]
        },
        {
          "output_type": "stream",
          "name": "stderr",
          "text": [
            "/usr/local/lib/python3.10/dist-packages/keras/src/engine/training.py:3103: UserWarning: You are saving your model as an HDF5 file via `model.save()`. This file format is considered legacy. We recommend using instead the native Keras format, e.g. `model.save('my_model.keras')`.\n",
            "  saving_api.save_model(\n"
          ]
        },
        {
          "output_type": "stream",
          "name": "stdout",
          "text": [
            "\n",
            "Epoch 2: val_loss improved from 0.08123 to 0.05801, saving model to ./MNIST_CNN.hdf5\n",
            "\n",
            "Epoch 3: val_loss improved from 0.05801 to 0.05263, saving model to ./MNIST_CNN.hdf5\n",
            "\n",
            "Epoch 4: val_loss improved from 0.05263 to 0.04383, saving model to ./MNIST_CNN.hdf5\n",
            "\n",
            "Epoch 5: val_loss did not improve from 0.04383\n",
            "\n",
            "Epoch 6: val_loss improved from 0.04383 to 0.04291, saving model to ./MNIST_CNN.hdf5\n",
            "\n",
            "Epoch 7: val_loss improved from 0.04291 to 0.04048, saving model to ./MNIST_CNN.hdf5\n",
            "\n",
            "Epoch 8: val_loss improved from 0.04048 to 0.03866, saving model to ./MNIST_CNN.hdf5\n",
            "\n",
            "Epoch 9: val_loss improved from 0.03866 to 0.03762, saving model to ./MNIST_CNN.hdf5\n",
            "\n",
            "Epoch 10: val_loss did not improve from 0.03762\n",
            "\n",
            "Epoch 11: val_loss did not improve from 0.03762\n",
            "\n",
            "Epoch 12: val_loss improved from 0.03762 to 0.03749, saving model to ./MNIST_CNN.hdf5\n",
            "\n",
            "Epoch 13: val_loss did not improve from 0.03749\n",
            "\n",
            "Epoch 14: val_loss did not improve from 0.03749\n",
            "\n",
            "Epoch 15: val_loss did not improve from 0.03749\n",
            "\n",
            "Epoch 16: val_loss did not improve from 0.03749\n",
            "\n",
            "Epoch 17: val_loss did not improve from 0.03749\n",
            "\n",
            "Epoch 18: val_loss did not improve from 0.03749\n",
            "\n",
            "Epoch 19: val_loss did not improve from 0.03749\n",
            "\n",
            "Epoch 20: val_loss did not improve from 0.03749\n",
            "\n",
            "Epoch 21: val_loss did not improve from 0.03749\n",
            "\n",
            "Epoch 22: val_loss did not improve from 0.03749\n",
            "313/313 [==============================] - 1s 3ms/step - loss: 0.0348 - accuracy: 0.9907\n",
            "\n",
            " Test Accuracy: 0.9907\n"
          ]
        }
      ]
    },
    {
      "cell_type": "code",
      "execution_count": null,
      "metadata": {
        "id": "pCGvCLddHps7",
        "outputId": "d0568749-8427-44f4-c894-c52a8bb2e751",
        "colab": {
          "base_uri": "https://localhost:8080/",
          "height": 449
        }
      },
      "outputs": [
        {
          "output_type": "display_data",
          "data": {
            "text/plain": [
              "<Figure size 640x480 with 1 Axes>"
            ],
            "image/png": "[encoded data removed]"
          },
          "metadata": {}
        }
      ],
      "source": [
        "# 검증셋과 학습셋의 오차를 저장합니다.\n",
        "y_vloss = history.history['val_loss']\n",
        "y_loss = history.history['loss']\n",
        "\n",
        "# 그래프로 표현해 봅니다.\n",
        "x_len = np.arange(len(y_loss))\n",
        "plt.plot(x_len, y_vloss, marker='.', c=\"red\", label='Testset_loss')\n",
        "plt.plot(x_len, y_loss, marker='.', c=\"blue\", label='Trainset_loss')\n",
        "\n",
        "# 그래프에 그리드를 주고 레이블을 표시해 보겠습니다.\n",
        "plt.legend(loc='upper right')\n",
        "plt.grid()\n",
        "plt.xlabel('epoch')\n",
        "plt.ylabel('loss')\n",
        "plt.show()"
      ]
    },
    {
      "cell_type": "code",
      "execution_count": null,
      "metadata": {
        "id": "5Z-OGf7sHps8"
      },
      "outputs": [],
      "source": []
    }
  ],
  "metadata": {
    "colab": {
      "provenance": [],
      "include_colab_link": true
    },
    "kernelspec": {
      "display_name": "Python 3 (ipykernel)",
      "language": "python",
      "name": "python3"
    },
    "language_info": {
      "codemirror_mode": {
        "name": "ipython",
        "version": 3
      },
      "file_extension": ".py",
      "mimetype": "text/x-python",
      "name": "python",
      "nbconvert_exporter": "python",
      "pygments_lexer": "ipython3",
      "version": "3.9.7"
    },
    "accelerator": "GPU",
    "gpuClass": "standard"
  },
  "nbformat": 4,
  "nbformat_minor": 0
}
