{
 "cells": [
  {
   "cell_type": "code",
   "execution_count": null,
   "metadata": {},
   "outputs": [],
   "source": [
    "import pandas as pd\n",
    "import numpy as np\n",
    "import matplotlib.pyplot as plt\n",
    "from itertools import combinations\n",
    "import networkx as nx\n",
    "import seaborn as sns\n",
    "import pickle"
   ]
  },
  {
   "cell_type": "code",
   "execution_count": null,
   "metadata": {},
   "outputs": [],
   "source": [
    "#임상데이터를 불러와서, 첫번째 열 제거하고, bcr_patient_barcode를 인덱스로 설정한다.\n",
    "\n",
    "df_clinic = pd.read_csv('/home/lee/home/clinic_patient/BRCA_clinic_patient.csv')\n",
    "df_clinic= df_clinic.iloc[:,1:]\n",
    "df_clinic.set_index('bcr_patient_barcode', inplace=True)\n",
    "df_clinic"
   ]
  },
  {
   "cell_type": "code",
   "execution_count": null,
   "metadata": {},
   "outputs": [],
   "source": [
    "#분석하고자 하는 컬럼만 남긴다.\n",
    "df_clinic = df_clinic[['icd_o_3_histology','icd_10','histological_type','lab_proc_her2_neu_immunohistochemistry_receptor_status',\n",
    "'breast_carcinoma_progesterone_receptor_status','breast_carcinoma_estrogen_receptor_status']]\n",
    "\n",
    "\n",
    "df_clinic"
   ]
  },
  {
   "cell_type": "code",
   "execution_count": null,
   "metadata": {},
   "outputs": [],
   "source": [
    "#데이터프레임의 각 행을 입력받아 특정 값을 제외한 나머지 값을 dict형태로 변환한다.\n",
    "# 함수는 row의 각 컬럼과 값을 순회하며 값이 NaN이 아니고 excluded_values 리스트에 없는 경우에만 col: val 쌍으로 포함한다.\n",
    "def row_to_dict(row):\n",
    "    #제외할 값 지정\n",
    "    excluded_values = [\n",
    "        '8523/3',\n",
    "        '8524/3',\n",
    "        '8010/3',\n",
    "        'C50.9',\n",
    "        'C50.919',\n",
    "        'Other, specify',\n",
    "        'Infiltrating Carcinoma NOS',\n",
    "        'Equivocal',\n",
    "        'Indeterminate'\n",
    "        'Mixed Histology (please specify)'\n",
    "\n",
    "          ]\n",
    "    return {col: val for col, val in row.items() if pd.notna(val) and val not in excluded_values}\n",
    "\n",
    "# 위 함수실행\n",
    "row_sets = df_clinic.apply(row_to_dict, axis=1)\n",
    "\n",
    "# 샘플 : {'컬럼이름': '값', '컬럼이름': '값', ... }\n",
    "for index, value in row_sets.items():\n",
    "    print(f'{index}: {value}')"
   ]
  },
  {
   "cell_type": "code",
   "execution_count": null,
   "metadata": {},
   "outputs": [],
   "source": [
    "\n",
    "two_or_more_matches = [] #두개 이상 매치된 샘플 쌍 저장하는 리스트\n",
    "no_matches = [] # 일치하는 항목이 두개 미만인 샘플 쌍 저장하는 리스트\n",
    "matching_sametype_pairs = [] # 두 개 이상의 일치 항목을 가진 샘플 쌍을 별도로 저장함 (나중에 비교위해)\n",
    "\n",
    "# 각샘플끼리 모두 비교\n",
    "for (i1, row1), (i2, row2) in combinations(row_sets.items(), 2):\n",
    "   \n",
    "    common_items = set(row1.items()) & set(row2.items())\n",
    "    \n",
    "    \n",
    "    num_matches = len(common_items)\n",
    "    \n",
    "    if num_matches >= 2:\n",
    "        common_values = {k: v for k, v in common_items}\n",
    "        two_or_more_matches.append((i1, i2, num_matches, common_values))\n",
    "        matching_sametype_pairs.append((i1, i2))\n",
    "    elif num_matches == 0:\n",
    "        no_matches.append((i1, i2))"
   ]
  },
  {
   "cell_type": "code",
   "execution_count": null,
   "metadata": {},
   "outputs": [],
   "source": [
    "print(\"2개이상 (같은 서브타입) :\", len(two_or_more_matches))\n",
    "print(\"2개미만 (다른 서브타입) :\",len(no_matches))\n"
   ]
  },
  {
   "cell_type": "code",
   "execution_count": null,
   "metadata": {},
   "outputs": [],
   "source": [
    "\"\"\"\"\n",
    " two_or_more_matches 리스트에 저장된 두 개 이상의 일치하는 항목이 있는 샘플 쌍을 출력\n",
    "각 샘플 쌍의 인덱스, 일치하는 항목의 개수, 그리고 각 공통 항목의 열 이름과 값을 출력\n",
    "\n",
    "\n",
    "print(\"Pairs with 2 or more matches:\")\n",
    "for pair in two_or_more_matches:\n",
    "    print(f'{pair[0]} & {pair[1]}: {pair[2]} matches')\n",
    "    for col, val in pair[3].items():\n",
    "        print(f'  Column: {col}, Value: {val}')\n",
    "\n",
    "\"\"\""
   ]
  },
  {
   "cell_type": "code",
   "execution_count": null,
   "metadata": {},
   "outputs": [],
   "source": [
    "# no_mathces리스트에 저장된 샘플 쌍을 출력\n",
    "\"\"\"\n",
    "print(\"\\nPairs with no matches:\")\n",
    "for pair in no_matches:\n",
    "    print(f'{pair[0]} & {pair[1]}')\n",
    "\n",
    "\n",
    "\"\"\""
   ]
  },
  {
   "cell_type": "code",
   "execution_count": null,
   "metadata": {},
   "outputs": [],
   "source": [
    "import random\n",
    "\n",
    "random.seed(42) \n",
    "\n",
    "#개수를 맞추기 위해 471863개에서 66696개만 랜덤으로 뽑았음\n",
    "matching_sametype_pairs = random.sample(matching_sametype_pairs, min(66696, len(matching_sametype_pairs)))\n",
    "\n",
    "\n",
    "print(len(matching_sametype_pairs))"
   ]
  },
  {
   "cell_type": "code",
   "execution_count": null,
   "metadata": {},
   "outputs": [],
   "source": [
    "#그대로 사용\n",
    "print(len(no_matches))"
   ]
  },
  {
   "cell_type": "code",
   "execution_count": null,
   "metadata": {},
   "outputs": [],
   "source": [
    "# 피클에서 불러와서 네트워크 만들고 확인\n",
    "with open('/home/lee/home/pizzz&pkl/use_pkl/pcc0.3_sil0.4_th0.1_pvalue0.05_BRCA.pkl', 'rb') as f:\n",
    "    results = pickle.load(f)\n",
    "\n",
    "print(\"Results loaded from clustering_results.pkl\")\n",
    "\n",
    "# 불러온 results를 사용하여 네트워크 구축 \n",
    "G = nx.Graph()\n",
    "for combo, result in results:\n",
    "    if result is not None:\n",
    "        for sample in result:\n",
    "            # 샘플 이름을 12글자로 자름 (클리닉과 비교하기 위함)\n",
    "            trimmed_samples = [s[:12] for s in sample[1]] \n",
    "            G.add_edge(combo[0], combo[1], sample=trimmed_samples)\n",
    "\n",
    "\n",
    "# 네트워크 엣지 확인 (디버깅용)\n",
    "print(\"Edges in the network:\")\n",
    "for u, v, data in G.edges(data=True):\n",
    "    print(f'({u}, {v}): {data}')"
   ]
  },
  {
   "cell_type": "code",
   "execution_count": null,
   "metadata": {},
   "outputs": [],
   "source": [
    "# 샘플별 유전자 집합 생성\n",
    "sample_to_genes = {}\n",
    "for u, v, data in G.edges(data=True):\n",
    "    for sample in data['sample']:\n",
    "        if sample not in sample_to_genes:\n",
    "            sample_to_genes[sample] = set()\n",
    "        sample_to_genes[sample].add(u)\n",
    "        sample_to_genes[sample].add(v)\n"
   ]
  },
  {
   "cell_type": "code",
   "execution_count": null,
   "metadata": {},
   "outputs": [],
   "source": [
    "# 자카드 계수 계산 함수\n",
    "def jaccard_index(set1, set2):\n",
    "    intersection = len(set1.intersection(set2))\n",
    "    union = len(set1.union(set2))\n",
    "    return intersection / union if union != 0 else 0\n",
    "\n",
    "# 자카드 계수 계산\n",
    "sametype_jaccard = []\n",
    "for pair in matching_sametype_pairs:\n",
    "    try:\n",
    "        set1 = sample_to_genes[pair[0]]\n",
    "        set2 = sample_to_genes[pair[1]]\n",
    "        jaccard = jaccard_index(set1, set2)\n",
    "        sametype_jaccard.append(jaccard)\n",
    "    except KeyError as e:#이거는 clinic에서는 있는 쌍인데, 우리가 구축한 네트워크엔 그 쌍이 없어서 출력되는 예외처리\n",
    "        print(f\"KeyError for pair {pair}: {e}\") \n",
    "\n",
    "differenttype_jaccard = []\n",
    "for pair in no_matches:\n",
    "    try:\n",
    "        set1 = sample_to_genes[pair[0]]\n",
    "        set2 = sample_to_genes[pair[1]]\n",
    "        jaccard = jaccard_index(set1, set2)\n",
    "        differenttype_jaccard.append(jaccard)\n",
    "    except KeyError as e:\n",
    "        print(f\"KeyError for pair {pair}: {e}\")"
   ]
  },
  {
   "cell_type": "code",
   "execution_count": null,
   "metadata": {},
   "outputs": [],
   "source": [
    "# 그래프 크기 설정\n",
    "plt.figure(figsize=(14, 9))\n",
    "\n",
    "# 서로 다른 서브타입 간 자카드 인덱스 히스토그램 추가\n",
    "sns.histplot(sametype_jaccard, bins=20, kde=True, color='red', label='Between same Subtypes')\n",
    "sns.histplot(differenttype_jaccard, bins=20, kde=True, color='blue', label='Between Different Subtypes')\n",
    "\n",
    "# 0.5 축에 세로선 추가\n",
    "plt.axvline(x=0.5, color='black', linestyle='--', linewidth=2, label='Jaccard Index 0.5')\n",
    "\n",
    "plt.xlim(0.1, 0.9)\n",
    "plt.xticks(np.arange(0, 1.1, 0.1))\n",
    "plt.title('Distribution of Jaccard Index : BRCA')\n",
    "plt.xlabel('Jaccard Index')\n",
    "plt.ylabel('Count')\n",
    "plt.legend(title='Subtype Jaccard Index', bbox_to_anchor=(1.05, 1), loc='upper left')\n",
    "\n",
    "# 범례를 그래프 안으로 이동\n",
    "plt.legend(title='Subtype Jaccard Index', loc='upper right', bbox_to_anchor=(0.95, 0.95), borderaxespad=0.)\n",
    "\n",
    "plt.show()"
   ]
  },
  {
   "cell_type": "code",
   "execution_count": null,
   "metadata": {},
   "outputs": [],
   "source": []
  }
 ],
 "metadata": {
  "kernelspec": {
   "display_name": "Python 3.12 (woody)",
   "language": "python",
   "name": "woody"
  },
  "language_info": {
   "codemirror_mode": {
    "name": "ipython",
    "version": 3
   },
   "file_extension": ".py",
   "mimetype": "text/x-python",
   "name": "python",
   "nbconvert_exporter": "python",
   "pygments_lexer": "ipython3",
   "version": "3.12.1"
  }
 },
 "nbformat": 4,
 "nbformat_minor": 2
}
